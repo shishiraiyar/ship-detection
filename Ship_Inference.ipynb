{
  "nbformat": 4,
  "nbformat_minor": 0,
  "metadata": {
    "colab": {
      "provenance": [],
      "authorship_tag": "ABX9TyPmSm0eS9+9uHhklfiaEYcK",
      "include_colab_link": true
    },
    "kernelspec": {
      "name": "python3",
      "display_name": "Python 3"
    },
    "language_info": {
      "name": "python"
    }
  },
  "cells": [
    {
      "cell_type": "markdown",
      "metadata": {
        "id": "view-in-github",
        "colab_type": "text"
      },
      "source": [
        "<a href=\"https://colab.research.google.com/github/shishiraiyar/ship-detection/blob/main/Ship_Inference.ipynb\" target=\"_parent\"><img src=\"https://colab.research.google.com/assets/colab-badge.svg\" alt=\"Open In Colab\"/></a>"
      ]
    },
    {
      "cell_type": "code",
      "execution_count": 1,
      "metadata": {
        "id": "UMvm0buMoGPJ"
      },
      "outputs": [],
      "source": [
        "import torch\n",
        "from PIL import Image\n",
        "from torchvision import transforms"
      ]
    },
    {
      "cell_type": "code",
      "source": [
        "model = torch.jit.load('model_scripted.pt')\n",
        "model.eval()"
      ],
      "metadata": {
        "colab": {
          "base_uri": "https://localhost:8080/"
        },
        "id": "AA_mg0C2pFlH",
        "outputId": "ee034ee1-eebc-4f2b-cf1a-171414e86b23"
      },
      "execution_count": 2,
      "outputs": [
        {
          "output_type": "execute_result",
          "data": {
            "text/plain": [
              "RecursiveScriptModule(\n",
              "  original_name=Modelv3\n",
              "  (conv1): RecursiveScriptModule(original_name=Conv2d)\n",
              "  (conv2): RecursiveScriptModule(original_name=Conv2d)\n",
              "  (conv3): RecursiveScriptModule(original_name=Conv2d)\n",
              "  (fc1): RecursiveScriptModule(original_name=Linear)\n",
              "  (fc2): RecursiveScriptModule(original_name=Linear)\n",
              ")"
            ]
          },
          "metadata": {},
          "execution_count": 2
        }
      ]
    },
    {
      "cell_type": "code",
      "source": [
        "mean = torch.tensor([0.4119, 0.4243, 0.3724])\n",
        "std = torch.tensor([0.1899, 0.1569, 0.1515])\n",
        "\n",
        "transform_fn = transforms.Compose([\n",
        "    transforms.ToTensor(),\n",
        "    transforms.Normalize(mean=mean, std=std)\n",
        "])"
      ],
      "metadata": {
        "id": "vfCzV7xqs8Hr"
      },
      "execution_count": 3,
      "outputs": []
    },
    {
      "cell_type": "code",
      "source": [
        "image = Image.open(\"image.png\").convert('RGB')\n",
        "transformed_image = transform_fn(image)\n",
        "transformed_image.shape"
      ],
      "metadata": {
        "colab": {
          "base_uri": "https://localhost:8080/"
        },
        "id": "dO8ZNcRppMpO",
        "outputId": "42f5af78-5437-4335-9e79-7094d34fcf04"
      },
      "execution_count": 4,
      "outputs": [
        {
          "output_type": "execute_result",
          "data": {
            "text/plain": [
              "torch.Size([3, 80, 80])"
            ]
          },
          "metadata": {},
          "execution_count": 4
        }
      ]
    },
    {
      "cell_type": "code",
      "source": [
        "image_batch = transformed_image.unsqueeze(0)\n",
        "image_batch.shape"
      ],
      "metadata": {
        "colab": {
          "base_uri": "https://localhost:8080/"
        },
        "id": "Z-IzqQIXsxOE",
        "outputId": "1633a622-f84a-4b83-9560-d2b85141db02"
      },
      "execution_count": 5,
      "outputs": [
        {
          "output_type": "execute_result",
          "data": {
            "text/plain": [
              "torch.Size([1, 3, 80, 80])"
            ]
          },
          "metadata": {},
          "execution_count": 5
        }
      ]
    },
    {
      "cell_type": "code",
      "source": [
        "outputs = model(image_batch)\n",
        "probs = torch.sigmoid(outputs)\n",
        "probs.item()"
      ],
      "metadata": {
        "colab": {
          "base_uri": "https://localhost:8080/"
        },
        "id": "MGPKNEbZtVtY",
        "outputId": "fac868ec-7fa3-4ef9-9600-82c72de96450"
      },
      "execution_count": 6,
      "outputs": [
        {
          "output_type": "execute_result",
          "data": {
            "text/plain": [
              "2.0694848558346773e-13"
            ]
          },
          "metadata": {},
          "execution_count": 6
        }
      ]
    }
  ]
}